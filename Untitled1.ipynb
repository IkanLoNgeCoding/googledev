{
  "nbformat": 4,
  "nbformat_minor": 0,
  "metadata": {
    "colab": {
      "provenance": [],
      "authorship_tag": "ABX9TyNZFL53svuqB99p7mLxlR0s",
      "include_colab_link": true
    },
    "kernelspec": {
      "name": "python3",
      "display_name": "Python 3"
    },
    "language_info": {
      "name": "python"
    }
  },
  "cells": [
    {
      "cell_type": "markdown",
      "metadata": {
        "id": "view-in-github",
        "colab_type": "text"
      },
      "source": [
        "<a href=\"https://colab.research.google.com/github/IkanLoNgeCoding/googledev/blob/main/Untitled1.ipynb\" target=\"_parent\"><img src=\"https://colab.research.google.com/assets/colab-badge.svg\" alt=\"Open In Colab\"/></a>"
      ]
    },
    {
      "cell_type": "code",
      "execution_count": null,
      "metadata": {
        "id": "0ccBDhlTzC3Q",
        "colab": {
          "base_uri": "https://localhost:8080/"
        },
        "outputId": "251caa71-f1a7-48bd-84ae-e7ece742896e"
      },
      "outputs": [
        {
          "output_type": "stream",
          "name": "stdout",
          "text": [
            "Masukkan jumlsh nilai yang akan dimasukkan: \n",
            "10\n",
            "Masukkan nilai ke 1: \n",
            "2.5\n",
            "Masukkan nilai ke 2: \n",
            "5.0\n",
            "Masukkan nilai ke 3: \n",
            "6.7\n",
            "Masukkan nilai ke 4: \n",
            "9.6\n",
            "Masukkan nilai ke 5: \n",
            "10\n",
            "Masukkan nilai ke 6: \n",
            "4.5\n",
            "Masukkan nilai ke 7: \n",
            "6.3\n",
            "Masukkan nilai ke 8: \n",
            "8.5\n",
            "Masukkan nilai ke 9: \n",
            "6.5\n",
            "Masukkan nilai ke 10: \n",
            "3.6\n",
            "Nilai yang Anda masukkan: [2.5, 5.0, 6.7, 9.6, 10.0, 4.5, 6.3, 8.5, 6.5, 3.6]\n",
            "Rata-rata nilai: 6.320000\n"
          ]
        }
      ],
      "source": [
        "# user_input_list.py\n",
        "def minta_nilai():\n",
        "  # List kosong untuk menyimpan nilai\n",
        "  nilai_list = []\n",
        "\n",
        "  # Menentukan jumlah nilai yang akan dimasukkan\n",
        "  jumlah_nilai = int(input(\"Masukkan jumlsh nilai yang akan dimasukkan: \\n\"))\n",
        "\n",
        "  # Meminta input nilai dari pengguna\n",
        "  for i in range(jumlah_nilai):\n",
        "    while True:\n",
        "      try:\n",
        "        # Meminta input dari pengguna dan konversi ke float\n",
        "        nilai = float(input(f\"Masukkan nilai ke {i+1}: \\n\"))\n",
        "        # Menambahkan nilai ke dalam list\n",
        "        nilai_list.append(nilai)\n",
        "        # Keluar dari loop jika input valid\n",
        "        break\n",
        "      except ValueError:\n",
        "        # Mengangani kesalahan jika input tidak valid\n",
        "        print(\"Input tidak valid. Harap masukkan nilai berupa angka.\")\n",
        "\n",
        "  return nilai_list\n",
        "\n",
        "def hitung_r2(nilai_list):\n",
        "  # Menghitung rata-rata dari nilai dalam list\n",
        "  jumlah_nilai = len(nilai_list)\n",
        "  total_nilai = sum(nilai_list)\n",
        "  rata_rata = total_nilai / jumlah_nilai if jumlah_nilai > 0 else 0\n",
        "  return rata_rata\n",
        "\n",
        "# Menggunakan fungsi\n",
        "if __name__ == \"__main__\":\n",
        "  nilai_list = minta_nilai()\n",
        "  rata_rata = hitung_r2(nilai_list)\n",
        "\n",
        "  print(f\"Nilai yang Anda masukkan: {nilai_list}\")\n",
        "  print(f\"Rata-rata nilai: {rata_rata:2f}\")"
      ]
    },
    {
      "cell_type": "code",
      "source": [
        "# args.py\n",
        "def contoh_args_kwargs(*args, **kwargs):\n",
        "  # Menampilkan semua argumen posisi\n",
        "  print(\"Argumen Posisi\")\n",
        "  for arg in args:\n",
        "    print(arg)\n",
        "\n",
        "  # Menampilkan semua argumen kata kunci\n",
        "  print(\"\\nArgumen Kata Kunci:\")\n",
        "  for key, value in kwargs.items():\n",
        "    print(f\"{key}: {value}\")\n",
        "\n",
        "# Memanggil fungsi dengan argumen posisi dan argumen kata kunci\n",
        "contoh_args_kwargs(1, 2, 3, nama=\"Alice\", umur=30, kota=\"Jakarta\")"
      ],
      "metadata": {
        "colab": {
          "base_uri": "https://localhost:8080/"
        },
        "id": "-3yqahbji8Vh",
        "outputId": "6ab0b580-739f-4fc4-cde7-fa538acbdd22"
      },
      "execution_count": null,
      "outputs": [
        {
          "output_type": "stream",
          "name": "stdout",
          "text": [
            "Argumen Posisi\n",
            "1\n",
            "2\n",
            "3\n",
            "\n",
            "Argumen Kata Kunci:\n",
            "nama: Alice\n",
            "umur: 30\n",
            "kota: Jakarta\n"
          ]
        }
      ]
    }
  ]
}